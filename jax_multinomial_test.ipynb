{
 "cells": [
  {
   "cell_type": "code",
   "execution_count": 1,
   "metadata": {},
   "outputs": [],
   "source": [
    "import aesara.tensor as at\n",
    "import jax.numpy as jnp\n",
    "import numpy as np\n",
    "import jax"
   ]
  },
  {
   "cell_type": "code",
   "execution_count": 2,
   "metadata": {},
   "outputs": [
    {
     "data": {
      "text/plain": [
       "DeviceArray([   0, 1701], dtype=uint32)"
      ]
     },
     "execution_count": 2,
     "metadata": {},
     "output_type": "execute_result"
    }
   ],
   "source": [
    "jax_key = jax.random.PRNGKey(1701)\n",
    "jax_key"
   ]
  },
  {
   "cell_type": "code",
   "execution_count": 3,
   "metadata": {},
   "outputs": [],
   "source": [
    "sample = 0 + jax.random.normal(key=jax_key, dtype=jnp.float16) * 1\n",
    "sample_exp = jnp.exp(sample)\n",
    "#jax_key['jax_state'] = random.split(jax_key, num=1)[0]"
   ]
  },
  {
   "cell_type": "code",
   "execution_count": 4,
   "metadata": {},
   "outputs": [],
   "source": [
    "def sample_fn(rng, size, dtype, *parameters):\n",
    "    #rng_key = rng[\"jax_state\"]\n",
    "    loc, scale = parameters\n",
    "    sample = loc + jax.random.normal(rng, size, dtype) * scale\n",
    "    sample_exp = jax.numpy.exp(sample)\n",
    "    #rng[\"jax_state\"] = jax.random.split(rng, num=1)[0]\n",
    "    return (rng, sample_exp)"
   ]
  },
  {
   "cell_type": "code",
   "execution_count": 5,
   "metadata": {},
   "outputs": [
    {
     "data": {
      "text/plain": [
       "(DeviceArray([   0, 1701], dtype=uint32),\n",
       " DeviceArray([0.45558405, 3.867971  , 3.0604928 , 0.36627936, 1.8835636 ],            dtype=float32))"
      ]
     },
     "execution_count": 5,
     "metadata": {},
     "output_type": "execute_result"
    }
   ],
   "source": [
    "sample_fn(jax_key, jnp.array([5]), jnp.float32, 0, 1)"
   ]
  },
  {
   "cell_type": "code",
   "execution_count": 6,
   "metadata": {},
   "outputs": [],
   "source": [
    "def sample_fn(rng, size, dtype, *parameters):\n",
    "    rng_key = rng[\"jax_state\"]\n",
    "    (\n",
    "        df,\n",
    "        loc,\n",
    "        scale,\n",
    "    ) = parameters\n",
    "    sample = loc + jax.random.t(rng_key, df, size, dtype) * scale\n",
    "    rng[\"jax_state\"] = jax.random.split(rng_key, num=1)[0]\n",
    "    return (rng, sample)"
   ]
  },
  {
   "cell_type": "code",
   "execution_count": 7,
   "metadata": {},
   "outputs": [],
   "source": [
    "def _scatter_add_one(operand, indices, updates):\n",
    "    return lax.scatter_add(operand, indices, updates,\n",
    "                           lax.ScatterDimensionNumbers(update_window_dims=(),\n",
    "                                                       inserted_window_dims=(0,),\n",
    "                                                       scatter_dims_to_operand_dims=(0,)))\n",
    "\n",
    "\n",
    "def _categorical(key, p, shape):\n",
    "    # this implementation is fast when event shape is small, and slow otherwise\n",
    "    # Ref: https://stackoverflow.com/a/34190035\n",
    "    shape = shape or p.shape[:-1]\n",
    "    s = np.cumsum(p, axis=-1)\n",
    "    print(f\"sum of probs. {s}\")\n",
    "    r = random.uniform(key, shape=shape + (1,))\n",
    "    # FIXME: replace this computation by using binary search as suggested in the above\n",
    "    # reference. A while_loop + vmap for a reshaped 2D array would be enough.\n",
    "    return np.sum(s < r, axis=-1)\n",
    "\n",
    "\n",
    "def categorical(key, p, shape=()):\n",
    "    return _categorical(key, p, shape)\n",
    "\n",
    "def promote_shapes(*args, shape=()):\n",
    "    # adapted from lax.lax_numpy\n",
    "    if len(args) < 2 and not shape:\n",
    "        return args\n",
    "    else:\n",
    "        shapes = [np.shape(arg) for arg in args]\n",
    "        num_dims = len(lax.broadcast_shapes(shape, *shapes))\n",
    "        return [lax.reshape(arg, (1,) * (num_dims - len(s)) + s)\n",
    "                if len(s) < num_dims else arg for arg, s in zip(args, shapes)]"
   ]
  },
  {
   "cell_type": "code",
   "execution_count": 8,
   "metadata": {},
   "outputs": [],
   "source": [
    "def _multinomial(key, p, n, n_max, shape=()):\n",
    "\n",
    "    print(np.shape(n), np.shape(p)[:-1])\n",
    "    if np.shape(n) != np.shape(p)[:-1]:\n",
    "        print('in first if')\n",
    "        broadcast_shape = lax.broadcast_shapes(np.shape(n), np.shape(p)[:-1])\n",
    "        n = np.broadcast_to(n, broadcast_shape)\n",
    "        p = np.broadcast_to(p, broadcast_shape + np.shape(p)[-1:])\n",
    "\n",
    "    shape = shape or p.shape[:-1]\n",
    "    print(f\"shape: {shape}\")\n",
    "    indices = categorical(key, p, (n_max,) + shape)\n",
    "    print(f\"indices: {indices}\")\n",
    "    # mask out values when counts is heterogeneous\n",
    "    if np.ndim(n) > 0:\n",
    "        print(\"in second if\")\n",
    "        mask = promote_shapes(np.arange(n_max) < np.expand_dims(n, -1), shape=shape + (n_max,))[0]\n",
    "        mask = np.moveaxis(mask, -1, 0).astype(indices.dtype)\n",
    "        excess = np.concatenate([np.expand_dims(n_max - n, -1), np.zeros(np.shape(n) + (p.shape[-1] - 1,))], -1)\n",
    "    else:\n",
    "        mask = 1\n",
    "        excess = 0\n",
    "    # NB: we transpose to move batch shape to the front\n",
    "    indices_2D = (np.reshape(indices * mask, (n_max, -1,))).T\n",
    "    samples_2D = vmap(_scatter_add_one, (0, 0, 0))(np.zeros((indices_2D.shape[0], p.shape[-1]),\n",
    "                                                            dtype=indices.dtype),\n",
    "                                                   np.expand_dims(indices_2D, axis=-1),\n",
    "                                                   np.ones(indices_2D.shape, dtype=indices.dtype))\n",
    "    print(f\"samples 2d: {samples_2D}\")\n",
    "    print(f\"shape: {shape}, p.shape: {p.shape[-1:]}\")\n",
    "    return np.reshape(samples_2D, shape + p.shape[-1:]) - excess"
   ]
  },
  {
   "cell_type": "code",
   "execution_count": 9,
   "metadata": {},
   "outputs": [],
   "source": [
    "def multinomial(key, p, n, shape=()):\n",
    "    n_max = int(np.max(n))\n",
    "    return _multinomial(key, p, n, n_max, shape)"
   ]
  },
  {
   "cell_type": "code",
   "execution_count": 10,
   "metadata": {},
   "outputs": [
    {
     "name": "stdout",
     "output_type": "stream",
     "text": [
      "() ()\n",
      "shape: (2, 2)\n",
      "sum of probs. [0.16666667 0.33333334 0.5        0.6666667  0.8333334  1.        ]\n"
     ]
    },
    {
     "ename": "NameError",
     "evalue": "name 'random' is not defined",
     "output_type": "error",
     "traceback": [
      "\u001b[0;31m---------------------------------------------------------------------------\u001b[0m",
      "\u001b[0;31mNameError\u001b[0m                                 Traceback (most recent call last)",
      "\u001b[1;32m/Users/gabestechschulte/Documents/repos/aesara/jax_multinomial_test.ipynb Cell 10\u001b[0m in \u001b[0;36m<cell line: 1>\u001b[0;34m()\u001b[0m\n\u001b[0;32m----> <a href='vscode-notebook-cell:/Users/gabestechschulte/Documents/repos/aesara/jax_multinomial_test.ipynb#X12sZmlsZQ%3D%3D?line=0'>1</a>\u001b[0m multinomial(jax_key, jnp\u001b[39m.\u001b[39;49marray([\u001b[39m1\u001b[39;49m\u001b[39m/\u001b[39;49m\u001b[39m6\u001b[39;49m]\u001b[39m*\u001b[39;49m\u001b[39m6\u001b[39;49m), \u001b[39m10\u001b[39;49m, (\u001b[39m2\u001b[39;49m, \u001b[39m2\u001b[39;49m))\n",
      "\u001b[1;32m/Users/gabestechschulte/Documents/repos/aesara/jax_multinomial_test.ipynb Cell 10\u001b[0m in \u001b[0;36mmultinomial\u001b[0;34m(key, p, n, shape)\u001b[0m\n\u001b[1;32m      <a href='vscode-notebook-cell:/Users/gabestechschulte/Documents/repos/aesara/jax_multinomial_test.ipynb#X12sZmlsZQ%3D%3D?line=0'>1</a>\u001b[0m \u001b[39mdef\u001b[39;00m \u001b[39mmultinomial\u001b[39m(key, p, n, shape\u001b[39m=\u001b[39m()):\n\u001b[1;32m      <a href='vscode-notebook-cell:/Users/gabestechschulte/Documents/repos/aesara/jax_multinomial_test.ipynb#X12sZmlsZQ%3D%3D?line=1'>2</a>\u001b[0m     n_max \u001b[39m=\u001b[39m \u001b[39mint\u001b[39m(np\u001b[39m.\u001b[39mmax(n))\n\u001b[0;32m----> <a href='vscode-notebook-cell:/Users/gabestechschulte/Documents/repos/aesara/jax_multinomial_test.ipynb#X12sZmlsZQ%3D%3D?line=2'>3</a>\u001b[0m     \u001b[39mreturn\u001b[39;00m _multinomial(key, p, n, n_max, shape)\n",
      "\u001b[1;32m/Users/gabestechschulte/Documents/repos/aesara/jax_multinomial_test.ipynb Cell 10\u001b[0m in \u001b[0;36m_multinomial\u001b[0;34m(key, p, n, n_max, shape)\u001b[0m\n\u001b[1;32m     <a href='vscode-notebook-cell:/Users/gabestechschulte/Documents/repos/aesara/jax_multinomial_test.ipynb#X12sZmlsZQ%3D%3D?line=9'>10</a>\u001b[0m shape \u001b[39m=\u001b[39m shape \u001b[39mor\u001b[39;00m p\u001b[39m.\u001b[39mshape[:\u001b[39m-\u001b[39m\u001b[39m1\u001b[39m]\n\u001b[1;32m     <a href='vscode-notebook-cell:/Users/gabestechschulte/Documents/repos/aesara/jax_multinomial_test.ipynb#X12sZmlsZQ%3D%3D?line=10'>11</a>\u001b[0m \u001b[39mprint\u001b[39m(\u001b[39mf\u001b[39m\u001b[39m\"\u001b[39m\u001b[39mshape: \u001b[39m\u001b[39m{\u001b[39;00mshape\u001b[39m}\u001b[39;00m\u001b[39m\"\u001b[39m)\n\u001b[0;32m---> <a href='vscode-notebook-cell:/Users/gabestechschulte/Documents/repos/aesara/jax_multinomial_test.ipynb#X12sZmlsZQ%3D%3D?line=11'>12</a>\u001b[0m indices \u001b[39m=\u001b[39m categorical(key, p, (n_max,) \u001b[39m+\u001b[39;49m shape)\n\u001b[1;32m     <a href='vscode-notebook-cell:/Users/gabestechschulte/Documents/repos/aesara/jax_multinomial_test.ipynb#X12sZmlsZQ%3D%3D?line=12'>13</a>\u001b[0m \u001b[39mprint\u001b[39m(\u001b[39mf\u001b[39m\u001b[39m\"\u001b[39m\u001b[39mindices: \u001b[39m\u001b[39m{\u001b[39;00mindices\u001b[39m}\u001b[39;00m\u001b[39m\"\u001b[39m)\n\u001b[1;32m     <a href='vscode-notebook-cell:/Users/gabestechschulte/Documents/repos/aesara/jax_multinomial_test.ipynb#X12sZmlsZQ%3D%3D?line=13'>14</a>\u001b[0m \u001b[39m# mask out values when counts is heterogeneous\u001b[39;00m\n",
      "\u001b[1;32m/Users/gabestechschulte/Documents/repos/aesara/jax_multinomial_test.ipynb Cell 10\u001b[0m in \u001b[0;36mcategorical\u001b[0;34m(key, p, shape)\u001b[0m\n\u001b[1;32m     <a href='vscode-notebook-cell:/Users/gabestechschulte/Documents/repos/aesara/jax_multinomial_test.ipynb#X12sZmlsZQ%3D%3D?line=19'>20</a>\u001b[0m \u001b[39mdef\u001b[39;00m \u001b[39mcategorical\u001b[39m(key, p, shape\u001b[39m=\u001b[39m()):\n\u001b[0;32m---> <a href='vscode-notebook-cell:/Users/gabestechschulte/Documents/repos/aesara/jax_multinomial_test.ipynb#X12sZmlsZQ%3D%3D?line=20'>21</a>\u001b[0m     \u001b[39mreturn\u001b[39;00m _categorical(key, p, shape)\n",
      "\u001b[1;32m/Users/gabestechschulte/Documents/repos/aesara/jax_multinomial_test.ipynb Cell 10\u001b[0m in \u001b[0;36m_categorical\u001b[0;34m(key, p, shape)\u001b[0m\n\u001b[1;32m     <a href='vscode-notebook-cell:/Users/gabestechschulte/Documents/repos/aesara/jax_multinomial_test.ipynb#X12sZmlsZQ%3D%3D?line=11'>12</a>\u001b[0m s \u001b[39m=\u001b[39m np\u001b[39m.\u001b[39mcumsum(p, axis\u001b[39m=\u001b[39m\u001b[39m-\u001b[39m\u001b[39m1\u001b[39m)\n\u001b[1;32m     <a href='vscode-notebook-cell:/Users/gabestechschulte/Documents/repos/aesara/jax_multinomial_test.ipynb#X12sZmlsZQ%3D%3D?line=12'>13</a>\u001b[0m \u001b[39mprint\u001b[39m(\u001b[39mf\u001b[39m\u001b[39m\"\u001b[39m\u001b[39msum of probs. \u001b[39m\u001b[39m{\u001b[39;00ms\u001b[39m}\u001b[39;00m\u001b[39m\"\u001b[39m)\n\u001b[0;32m---> <a href='vscode-notebook-cell:/Users/gabestechschulte/Documents/repos/aesara/jax_multinomial_test.ipynb#X12sZmlsZQ%3D%3D?line=13'>14</a>\u001b[0m r \u001b[39m=\u001b[39m random\u001b[39m.\u001b[39muniform(key, shape\u001b[39m=\u001b[39mshape \u001b[39m+\u001b[39m (\u001b[39m1\u001b[39m,))\n\u001b[1;32m     <a href='vscode-notebook-cell:/Users/gabestechschulte/Documents/repos/aesara/jax_multinomial_test.ipynb#X12sZmlsZQ%3D%3D?line=14'>15</a>\u001b[0m \u001b[39m# FIXME: replace this computation by using binary search as suggested in the above\u001b[39;00m\n\u001b[1;32m     <a href='vscode-notebook-cell:/Users/gabestechschulte/Documents/repos/aesara/jax_multinomial_test.ipynb#X12sZmlsZQ%3D%3D?line=15'>16</a>\u001b[0m \u001b[39m# reference. A while_loop + vmap for a reshaped 2D array would be enough.\u001b[39;00m\n\u001b[1;32m     <a href='vscode-notebook-cell:/Users/gabestechschulte/Documents/repos/aesara/jax_multinomial_test.ipynb#X12sZmlsZQ%3D%3D?line=16'>17</a>\u001b[0m \u001b[39mreturn\u001b[39;00m np\u001b[39m.\u001b[39msum(s \u001b[39m<\u001b[39m r, axis\u001b[39m=\u001b[39m\u001b[39m-\u001b[39m\u001b[39m1\u001b[39m)\n",
      "\u001b[0;31mNameError\u001b[0m: name 'random' is not defined"
     ]
    }
   ],
   "source": [
    "multinomial(jax_key, jnp.array([1/6]*6), 10, (2, 2))"
   ]
  },
  {
   "cell_type": "code",
   "execution_count": 26,
   "metadata": {},
   "outputs": [],
   "source": [
    "def _scatter_add_one(operand, indices, updates):\n",
    "    return jax.lax.scatter_add(operand, indices, updates,\n",
    "                           jax.lax.ScatterDimensionNumbers(update_window_dims=(),\n",
    "                                                       inserted_window_dims=(0,),\n",
    "                                                       scatter_dims_to_operand_dims=(0,)))\n",
    "\n",
    "def _categorical(key, p, shape):\n",
    "    shape = shape or p.shape[:-1]\n",
    "    s = jax.numpy.cumsum(p, axis=-1)\n",
    "    print(f\"cumsum probs: {s}\")\n",
    "    r = jax.random.uniform(key, shape=shape + (1,))\n",
    "    #print(f\"uniform dist r: {r}\")\n",
    "    return jax.numpy.sum(s < r, axis=-1)\n",
    "\n",
    "def multinomial_sample_fn(rng, size, dtype, *parameters):\n",
    "    \"\"\"add sampling functionality\"\"\"\n",
    "\n",
    "    #rng_key = rng[\"jax_state\"]\n",
    "    n, p = parameters\n",
    "    n_max = jax.numpy.max(n)\n",
    "    size = size or p.shape[:-1]\n",
    "    print(f\"size: {size}\")\n",
    "    indices = _categorical(rng, p, (n_max,) + size)\n",
    "    print(f\"indices 1d: {indices}\")\n",
    "    \n",
    "    indices_2d = (jax.numpy.reshape(indices, (n_max, -1,))).T\n",
    "    print(f\"indices 2d: {indices_2d}\")\n",
    "    samples_2d = jax.vmap(_scatter_add_one, (0, 0, 0))(\n",
    "        jax.numpy.zeros((indices_2d.shape[0], p.shape[-1]),\n",
    "        dtype=indices.dtype),\n",
    "        jax.numpy.expand_dims(indices_2d, axis=-1),\n",
    "        jax.numpy.ones(indices_2d.shape, dtype=indices.dtype))\n",
    "    \n",
    "    # jax_unique = jax.numpy.unique(\n",
    "    #     indices_2d, return_counts=True)\n",
    "    # jax_unique = jax.numpy.bincount(\n",
    "    #     indices_2d)\n",
    "    # print(f\"jax unique: {jax_unique[1]}\")\n",
    "    \n",
    "    print(f\"samples_2d: {samples_2d}\")\n",
    "    print(f\"size: {size}, p.shape: {p.shape[-1:]}\")\n",
    "    return jax.numpy.reshape(samples_2d, size + p.shape[-1:])\n",
    "    "
   ]
  },
  {
   "cell_type": "code",
   "execution_count": 28,
   "metadata": {},
   "outputs": [
    {
     "name": "stdout",
     "output_type": "stream",
     "text": [
      "size: ()\n",
      "cumsum probs: [0.16666667 0.33333334 0.5        0.6666667  0.8333334  1.        ]\n",
      "indices 1d: [4 2 2 5 2 1 5 5 0 3]\n",
      "indices 2d: [[4 2 2 5 2 1 5 5 0 3]]\n",
      "samples_2d: [[1 1 3 1 1 3]]\n",
      "size: (), p.shape: (6,)\n"
     ]
    },
    {
     "data": {
      "text/plain": [
       "DeviceArray([1, 1, 3, 1, 1, 3], dtype=int32)"
      ]
     },
     "execution_count": 28,
     "metadata": {},
     "output_type": "execute_result"
    }
   ],
   "source": [
    "multinomial_sample_fn(\n",
    "    jax_key,\n",
    "    None,\n",
    "    jnp.int32, \n",
    "    10, jnp.array([1/6]*6)\n",
    ")"
   ]
  },
  {
   "cell_type": "code",
   "execution_count": null,
   "metadata": {},
   "outputs": [],
   "source": []
  }
 ],
 "metadata": {
  "kernelspec": {
   "display_name": "aes",
   "language": "python",
   "name": "python3"
  },
  "language_info": {
   "codemirror_mode": {
    "name": "ipython",
    "version": 3
   },
   "file_extension": ".py",
   "mimetype": "text/x-python",
   "name": "python",
   "nbconvert_exporter": "python",
   "pygments_lexer": "ipython3",
   "version": "3.10.8"
  },
  "orig_nbformat": 4,
  "vscode": {
   "interpreter": {
    "hash": "55cd75923e6f3ff1fcdb813a1c28fc3e04d0af53874406440684516e56df882d"
   }
  }
 },
 "nbformat": 4,
 "nbformat_minor": 2
}
